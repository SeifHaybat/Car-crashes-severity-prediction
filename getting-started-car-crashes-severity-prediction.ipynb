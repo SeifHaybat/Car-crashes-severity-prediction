{
 "cells": [
  {
   "cell_type": "markdown",
   "id": "3a301511",
   "metadata": {
    "papermill": {
     "duration": 0.02717,
     "end_time": "2021-07-27T14:02:17.256310",
     "exception": false,
     "start_time": "2021-07-27T14:02:17.229140",
     "status": "completed"
    },
    "tags": []
   },
   "source": [
    "## You're here! \n",
    "Welcome to your first competition in the [ITI's AI Pro training program](https://ai.iti.gov.eg/epita/ai-engineer/)! We hope you enjoy and learn as much as we did prepairing this competition.\n",
    "\n",
    "\n",
    "## Introduction\n",
    "\n",
    "In the competition, it's required to predict the `Severity` of a car crash given info about the crash, e.g., location.\n",
    "\n",
    "This is the getting started notebook. Things are kept simple so that it's easier to understand the steps and modify it.\n",
    "\n",
    "Feel free to `Fork` this notebook and share it with your modifications **OR** use it to create your submissions.\n",
    "\n",
    "### Prerequisites\n",
    "You should know how to use python and a little bit of Machine Learning. You can apply the techniques you learned in the training program and submit the new solutions! \n",
    "\n",
    "### Checklist\n",
    "You can participate in this competition the way you perefer. However, I recommend following these steps if this is your first time joining a competition on Kaggle.\n",
    "\n",
    "* Fork this notebook and run the cells in order.\n",
    "* Submit this solution.\n",
    "* Make changes to the data processing step as you see fit.\n",
    "* Submit the new solutions.\n",
    "\n",
    "*You can submit up to 5 submissions per day. You can select only one of the submission you make to be considered in the final ranking.*\n",
    "\n",
    "\n",
    "Don't hesitate to leave a comment or contact me if you have any question!"
   ]
  },
  {
   "cell_type": "markdown",
   "id": "cb6e85cd",
   "metadata": {
    "papermill": {
     "duration": 0.020534,
     "end_time": "2021-07-27T14:02:17.299502",
     "exception": false,
     "start_time": "2021-07-27T14:02:17.278968",
     "status": "completed"
    },
    "tags": []
   },
   "source": [
    "## Import the libraries\n",
    "\n",
    "We'll use `pandas` to load and manipulate the data. Other libraries will be imported in the relevant sections."
   ]
  },
  {
   "cell_type": "code",
   "execution_count": 1,
   "id": "135e25a7",
   "metadata": {
    "_cell_guid": "b1076dfc-b9ad-4769-8c92-a6c4dae69d19",
    "_uuid": "8f2839f25d086af736a60e9eeb907d3b93b6e0e5",
    "execution": {
     "iopub.execute_input": "2021-07-27T14:02:17.356945Z",
     "iopub.status.busy": "2021-07-27T14:02:17.356114Z",
     "iopub.status.idle": "2021-07-27T14:02:18.656869Z",
     "shell.execute_reply": "2021-07-27T14:02:18.656134Z",
     "shell.execute_reply.started": "2021-07-27T14:01:44.593793Z"
    },
    "papermill": {
     "duration": 1.334824,
     "end_time": "2021-07-27T14:02:18.657027",
     "exception": false,
     "start_time": "2021-07-27T14:02:17.322203",
     "status": "completed"
    },
    "tags": []
   },
   "outputs": [],
   "source": [
    "import pandas as pd\n",
    "import os\n",
    "import numpy as np\n",
    "from sklearn.impute import KNNImputer\n"
   ]
  },
  {
   "cell_type": "markdown",
   "id": "df89c5b9",
   "metadata": {
    "papermill": {
     "duration": 0.020226,
     "end_time": "2021-07-27T14:02:18.697909",
     "exception": false,
     "start_time": "2021-07-27T14:02:18.677683",
     "status": "completed"
    },
    "tags": []
   },
   "source": [
    "## Exploratory Data Analysis\n",
    "In this step, one should load the data and analyze it. However, I'll load the data and do minimal analysis. You are encouraged to do thorough analysis!\n",
    "\n",
    "Let's load the data using `pandas` and have a look at the generated `DataFrame`."
   ]
  },
  {
   "cell_type": "code",
   "execution_count": 2,
   "id": "6b057fbf",
   "metadata": {
    "execution": {
     "iopub.execute_input": "2021-07-27T14:02:18.742056Z",
     "iopub.status.busy": "2021-07-27T14:02:18.741392Z",
     "iopub.status.idle": "2021-07-27T14:02:18.903638Z",
     "shell.execute_reply": "2021-07-27T14:02:18.902981Z",
     "shell.execute_reply.started": "2021-07-27T14:01:44.939415Z"
    },
    "papermill": {
     "duration": 0.185447,
     "end_time": "2021-07-27T14:02:18.903778",
     "exception": false,
     "start_time": "2021-07-27T14:02:18.718331",
     "status": "completed"
    },
    "tags": []
   },
   "outputs": [
    {
     "name": "stdout",
     "output_type": "stream",
     "text": [
      "The shape of the dataset is (6407, 16).\n",
      "\n",
      "\n"
     ]
    },
    {
     "data": {
      "text/plain": [
       "Weather_Condition    0\n",
       "Wind_Chill(F)        0\n",
       "Temperature(F)       0\n",
       "Humidity(%)          0\n",
       "Wind_Speed(mph)      0\n",
       "Visibility(mi)       0\n",
       "timestamp            0\n",
       "dtype: int64"
      ]
     },
     "execution_count": 2,
     "metadata": {},
     "output_type": "execute_result"
    }
   ],
   "source": [
    "dataset_path = '/kaggle/input/car-crashes-severity-prediction/'\n",
    "\n",
    "df = pd.read_csv(os.path.join(dataset_path, 'train.csv'))\n",
    "\n",
    "wdf = pd.read_csv(os.path.join(dataset_path, 'weather-sfcsv.csv'))\n",
    "# print(type(str(wdf[\"Year\"])))\n",
    "# wdf[\"date\"] = str(wdf[\"Year\"])+\"-\"+str(wdf[\"Day\"])+\"-\"+str(wdf[\"Month\"])\n",
    "wdf['Hour'] = wdf['Hour'].map(int).apply(lambda x: \"{:02d}\".format(x))\n",
    "wdf['timestamp'] = wdf[\"Year\"].map(str) +'-'+wdf[\"Month\"].map(str)+'-'+ wdf[\"Day\"].map(str)+\" \"+wdf['Hour'].map(str)\n",
    "print(\"The shape of the dataset is {}.\\n\\n\".format(df.shape))\n",
    "\n",
    "\n",
    "\n",
    "\n",
    "df.head()\n",
    "wdf.head()\n",
    "\n",
    "# wdf[wdf['timestamp']=='2019-6-12 08']\n",
    "# wdf[wdf['timestamp'].duplicated()  ]and wdf['Wind_Chill(F)'].isna\n",
    "# kdf = wdf[wdf['timestamp'].duplicated(keep='first')]\n",
    "# kdf['timestamp'].value_counts()\n",
    "\n",
    "# wdf[wdf['timestamp']=='2019-12-7 15']\n",
    "\n",
    "# kdf['Wind_Chill(F)'].isna().sum()\n",
    "\n",
    "wdf =wdf.drop(columns=['Year','Month','Hour','Day','Precipitation(in)','Selected'])\n",
    "# wdf['Weather_Condition']= wdf['Weather_Condition'].astype('category')\n",
    "# wdf['Weather_Condition'] = wdf['Weather_Condition'].cat.codes\n",
    "\n",
    "\n",
    "# wdf.dropna(subset=['Visibility(mi)'], how='all', inplace=True)\n",
    "# wdf.dropna(subset=['Weather_Condition'], how='all', inplace=True)\n",
    "wdf['Weather_Condition'] = wdf['Weather_Condition'].map({'Partly Cloudy': 0, 'Mostly Cloudy': 1, 'Fair': 2, 'Overcast': 3, 'Clear': 4, 'Scattered Clouds': 5,'Cloudy': 6, 'Light Rain': 7, 'Fair / Windy': 8, 'Haze': 9, 'Rain': 10, 'Partly Cloudy / Windy': 11, 'Mostly Cloudy / Windy': 12, 'Fog': 13, 'Shallow Fog': 14,'Heavy Rain': 15, 'Smoke': 16, 'Cloudy / Windy': 17, 'Light Rain / Windy':18 , 'Light Drizzle': 19, 'Mist': 20, 'Patches of Fog': 21, 'Rain / Windy': 22, 'Light Thunderstorms and Rain': 23, 'Squalls': 24,'Fog / Windy': 25})\n",
    "\n",
    "\n",
    "# wdf['Weather_Condition'].value_counts()\n",
    "\n",
    "\n",
    "# integrate missing data in wind chill using normal distn\n",
    "# index = wdf[wdf['Wind_Chill(F)'].isna()].index\n",
    "# value = np.random.normal(loc=wdf['Wind_Chill(F)'].mean(), scale=wdf['Wind_Chill(F)'].std(), size=wdf['Wind_Chill(F)'].isna().sum())\n",
    "# wdf['Wind_Chill(F)'].fillna(pd.Series(value, index=index), inplace=True)\n",
    "wdf['Wind_Chill(F)'] = wdf['Wind_Chill(F)'].fillna(wdf['Wind_Chill(F)'].mean())\n",
    "\n",
    "\n",
    "# integrate missing data in wind speed using normal distn\n",
    "# index = wdf[wdf['Wind_Speed(mph)'].isna()].index\n",
    "# value = np.random.normal(loc=wdf['Wind_Speed(mph)'].mean(), scale=wdf['Wind_Speed(mph)'].std(), size=wdf['Wind_Speed(mph)'].isna().sum())\n",
    "# wdf['Wind_Speed(mph)'].fillna(pd.Series(value, index=index), inplace=True)\n",
    "wdf['Wind_Speed(mph)'] = wdf['Wind_Speed(mph)'].fillna(wdf['Wind_Speed(mph)'].mean())\n",
    "\n",
    "\n",
    "# integrate missing data in Temperature ,Humidity  with mean\n",
    "\n",
    "wdf['Temperature(F)'] = wdf['Temperature(F)'].fillna(wdf['Temperature(F)'].mean())\n",
    "wdf['Humidity(%)'] = wdf['Humidity(%)'].fillna(wdf['Humidity(%)'].mean())\n",
    "wdf['Visibility(mi)'] = wdf['Visibility(mi)'].fillna(wdf['Visibility(mi)'].mean())\n",
    "wdf['Weather_Condition'] = wdf['Weather_Condition'].fillna('26')\n",
    "wdf = wdf.drop_duplicates(subset=['timestamp'], keep='first')\n",
    "\n",
    "wdf['Weather_Condition'].value_counts()\n",
    "# wdf['Weather_Condition'] = wdf['Weather_Condition'].map(str)\n",
    "\n",
    "# wdf['Weather_Condition'].isna().sum()\n",
    "wdf.isna().sum()\n",
    "\n",
    "\n"
   ]
  },
  {
   "cell_type": "code",
   "execution_count": 3,
   "id": "88cc48b9",
   "metadata": {
    "execution": {
     "iopub.execute_input": "2021-07-27T14:02:18.953981Z",
     "iopub.status.busy": "2021-07-27T14:02:18.953196Z",
     "iopub.status.idle": "2021-07-27T14:02:18.973905Z",
     "shell.execute_reply": "2021-07-27T14:02:18.973289Z",
     "shell.execute_reply.started": "2021-07-27T14:01:45.089638Z"
    },
    "papermill": {
     "duration": 0.048405,
     "end_time": "2021-07-27T14:02:18.974048",
     "exception": false,
     "start_time": "2021-07-27T14:02:18.925643",
     "status": "completed"
    },
    "tags": []
   },
   "outputs": [
    {
     "data": {
      "text/html": [
       "<div>\n",
       "<style scoped>\n",
       "    .dataframe tbody tr th:only-of-type {\n",
       "        vertical-align: middle;\n",
       "    }\n",
       "\n",
       "    .dataframe tbody tr th {\n",
       "        vertical-align: top;\n",
       "    }\n",
       "\n",
       "    .dataframe thead th {\n",
       "        text-align: right;\n",
       "    }\n",
       "</style>\n",
       "<table border=\"1\" class=\"dataframe\">\n",
       "  <thead>\n",
       "    <tr style=\"text-align: right;\">\n",
       "      <th></th>\n",
       "      <th>date</th>\n",
       "      <th>description</th>\n",
       "    </tr>\n",
       "  </thead>\n",
       "  <tbody>\n",
       "    <tr>\n",
       "      <th>0</th>\n",
       "      <td>2012-01-02</td>\n",
       "      <td>New Year Day</td>\n",
       "    </tr>\n",
       "    <tr>\n",
       "      <th>1</th>\n",
       "      <td>2012-01-16</td>\n",
       "      <td>Martin Luther King Jr. Day</td>\n",
       "    </tr>\n",
       "    <tr>\n",
       "      <th>2</th>\n",
       "      <td>2012-02-20</td>\n",
       "      <td>Presidents Day (Washingtons Birthday)</td>\n",
       "    </tr>\n",
       "    <tr>\n",
       "      <th>3</th>\n",
       "      <td>2012-05-28</td>\n",
       "      <td>Memorial Day</td>\n",
       "    </tr>\n",
       "    <tr>\n",
       "      <th>4</th>\n",
       "      <td>2012-07-04</td>\n",
       "      <td>Independence Day</td>\n",
       "    </tr>\n",
       "  </tbody>\n",
       "</table>\n",
       "</div>"
      ],
      "text/plain": [
       "         date                            description\n",
       "0  2012-01-02                           New Year Day\n",
       "1  2012-01-16             Martin Luther King Jr. Day\n",
       "2  2012-02-20  Presidents Day (Washingtons Birthday)\n",
       "3  2012-05-28                           Memorial Day\n",
       "4  2012-07-04                       Independence Day"
      ]
     },
     "execution_count": 3,
     "metadata": {},
     "output_type": "execute_result"
    }
   ],
   "source": [
    "import xml.etree.ElementTree as ET\n",
    "\n",
    "root = ET.parse('/kaggle/input/car-crashes-severity-prediction/holidays.xml').getroot()\n",
    "\n",
    "df_cols = [\"date\",\"description\"]\n",
    "rows= []\n",
    "\n",
    "for elem in root:\n",
    "#     tag = {}\n",
    "    s_row = elem.attrib.get('row')\n",
    "    s_date= elem.find('date').text\n",
    "    s_description= elem.find('description').text\n",
    "    \n",
    "    rows.append({\"date\":s_date,\"description\":s_description})\n",
    "    \n",
    "hdf = pd.DataFrame(rows,columns=df_cols)\n",
    "hdf.head()\n"
   ]
  },
  {
   "cell_type": "code",
   "execution_count": 4,
   "id": "e476729b",
   "metadata": {
    "execution": {
     "iopub.execute_input": "2021-07-27T14:02:19.021067Z",
     "iopub.status.busy": "2021-07-27T14:02:19.020411Z",
     "iopub.status.idle": "2021-07-27T14:02:19.047865Z",
     "shell.execute_reply": "2021-07-27T14:02:19.048455Z",
     "shell.execute_reply.started": "2021-07-27T14:01:45.110092Z"
    },
    "papermill": {
     "duration": 0.052532,
     "end_time": "2021-07-27T14:02:19.048634",
     "exception": false,
     "start_time": "2021-07-27T14:02:18.996102",
     "status": "completed"
    },
    "tags": []
   },
   "outputs": [],
   "source": [
    "# merge datafram with weather data\n",
    "df['holiday']=df['timestamp'].str.contains(\"|\".join(hdf['date']))\n",
    "df['timestamp'] = df['timestamp'].map(str).apply(lambda x: x[0:13])\n",
    "\n"
   ]
  },
  {
   "cell_type": "code",
   "execution_count": 5,
   "id": "b14467d3",
   "metadata": {
    "execution": {
     "iopub.execute_input": "2021-07-27T14:02:19.096886Z",
     "iopub.status.busy": "2021-07-27T14:02:19.096207Z",
     "iopub.status.idle": "2021-07-27T14:02:19.131379Z",
     "shell.execute_reply": "2021-07-27T14:02:19.130838Z",
     "shell.execute_reply.started": "2021-07-27T14:01:45.137687Z"
    },
    "papermill": {
     "duration": 0.059649,
     "end_time": "2021-07-27T14:02:19.131538",
     "exception": false,
     "start_time": "2021-07-27T14:02:19.071889",
     "status": "completed"
    },
    "tags": []
   },
   "outputs": [],
   "source": [
    "\n",
    "\n",
    "\n",
    "# wdf.info()\n",
    "wdf['timestamp']=pd.to_datetime(wdf['timestamp'])\n",
    "df['timestamp']=pd.to_datetime(df['timestamp'])\n",
    "\n",
    "\n",
    "mdf = pd.merge(df, wdf, on='timestamp',how='left')\n",
    "mdf.dropna(subset=['Visibility(mi)'], how='all', inplace=True)\n"
   ]
  },
  {
   "cell_type": "markdown",
   "id": "07ec4422",
   "metadata": {
    "papermill": {
     "duration": 0.021699,
     "end_time": "2021-07-27T14:02:19.175051",
     "exception": false,
     "start_time": "2021-07-27T14:02:19.153352",
     "status": "completed"
    },
    "tags": []
   },
   "source": [
    "We've got 6407 examples in the dataset with 14 featues, 1 ID, and the `Severity` of the crash.\n",
    "\n",
    "By looking at the features and a sample from the data, the features look of numerical and catogerical types. What about some descriptive statistics?"
   ]
  },
  {
   "cell_type": "code",
   "execution_count": 6,
   "id": "6ee5d76f",
   "metadata": {
    "execution": {
     "iopub.execute_input": "2021-07-27T14:02:19.223180Z",
     "iopub.status.busy": "2021-07-27T14:02:19.222439Z",
     "iopub.status.idle": "2021-07-27T14:02:19.269314Z",
     "shell.execute_reply": "2021-07-27T14:02:19.268644Z",
     "shell.execute_reply.started": "2021-07-27T14:01:45.165071Z"
    },
    "papermill": {
     "duration": 0.072132,
     "end_time": "2021-07-27T14:02:19.269450",
     "exception": false,
     "start_time": "2021-07-27T14:02:19.197318",
     "status": "completed"
    },
    "tags": []
   },
   "outputs": [
    {
     "data": {
      "text/html": [
       "<div>\n",
       "<style scoped>\n",
       "    .dataframe tbody tr th:only-of-type {\n",
       "        vertical-align: middle;\n",
       "    }\n",
       "\n",
       "    .dataframe tbody tr th {\n",
       "        vertical-align: top;\n",
       "    }\n",
       "\n",
       "    .dataframe thead th {\n",
       "        text-align: right;\n",
       "    }\n",
       "</style>\n",
       "<table border=\"1\" class=\"dataframe\">\n",
       "  <thead>\n",
       "    <tr style=\"text-align: right;\">\n",
       "      <th></th>\n",
       "      <th>Lat</th>\n",
       "      <th>Lng</th>\n",
       "      <th>Distance(mi)</th>\n",
       "      <th>Severity</th>\n",
       "      <th>Wind_Chill(F)</th>\n",
       "      <th>Temperature(F)</th>\n",
       "      <th>Humidity(%)</th>\n",
       "      <th>Wind_Speed(mph)</th>\n",
       "      <th>Visibility(mi)</th>\n",
       "    </tr>\n",
       "  </thead>\n",
       "  <tbody>\n",
       "    <tr>\n",
       "      <th>count</th>\n",
       "      <td>6407.000000</td>\n",
       "      <td>6407.000000</td>\n",
       "      <td>6407.000000</td>\n",
       "      <td>6407.000000</td>\n",
       "      <td>6407.000000</td>\n",
       "      <td>6407.00000</td>\n",
       "      <td>6407.000000</td>\n",
       "      <td>6407.000000</td>\n",
       "      <td>6407.000000</td>\n",
       "    </tr>\n",
       "    <tr>\n",
       "      <th>mean</th>\n",
       "      <td>37.765653</td>\n",
       "      <td>-122.405990</td>\n",
       "      <td>0.135189</td>\n",
       "      <td>2.293429</td>\n",
       "      <td>59.851594</td>\n",
       "      <td>59.93899</td>\n",
       "      <td>68.179669</td>\n",
       "      <td>10.864850</td>\n",
       "      <td>9.440442</td>\n",
       "    </tr>\n",
       "    <tr>\n",
       "      <th>std</th>\n",
       "      <td>0.032555</td>\n",
       "      <td>0.028275</td>\n",
       "      <td>0.396360</td>\n",
       "      <td>0.521225</td>\n",
       "      <td>6.549706</td>\n",
       "      <td>7.94523</td>\n",
       "      <td>16.163415</td>\n",
       "      <td>6.348389</td>\n",
       "      <td>1.647513</td>\n",
       "    </tr>\n",
       "    <tr>\n",
       "      <th>min</th>\n",
       "      <td>37.609619</td>\n",
       "      <td>-122.510440</td>\n",
       "      <td>0.000000</td>\n",
       "      <td>1.000000</td>\n",
       "      <td>31.100000</td>\n",
       "      <td>36.00000</td>\n",
       "      <td>10.000000</td>\n",
       "      <td>0.000000</td>\n",
       "      <td>0.120000</td>\n",
       "    </tr>\n",
       "    <tr>\n",
       "      <th>25%</th>\n",
       "      <td>37.737096</td>\n",
       "      <td>-122.412210</td>\n",
       "      <td>0.000000</td>\n",
       "      <td>2.000000</td>\n",
       "      <td>59.000000</td>\n",
       "      <td>54.00000</td>\n",
       "      <td>59.000000</td>\n",
       "      <td>6.000000</td>\n",
       "      <td>10.000000</td>\n",
       "    </tr>\n",
       "    <tr>\n",
       "      <th>50%</th>\n",
       "      <td>37.768238</td>\n",
       "      <td>-122.404835</td>\n",
       "      <td>0.000000</td>\n",
       "      <td>2.000000</td>\n",
       "      <td>59.762515</td>\n",
       "      <td>59.00000</td>\n",
       "      <td>70.000000</td>\n",
       "      <td>10.000000</td>\n",
       "      <td>10.000000</td>\n",
       "    </tr>\n",
       "    <tr>\n",
       "      <th>75%</th>\n",
       "      <td>37.787813</td>\n",
       "      <td>-122.392477</td>\n",
       "      <td>0.041000</td>\n",
       "      <td>3.000000</td>\n",
       "      <td>59.762515</td>\n",
       "      <td>64.90000</td>\n",
       "      <td>80.000000</td>\n",
       "      <td>15.000000</td>\n",
       "      <td>10.000000</td>\n",
       "    </tr>\n",
       "    <tr>\n",
       "      <th>max</th>\n",
       "      <td>37.825626</td>\n",
       "      <td>-122.349734</td>\n",
       "      <td>6.820000</td>\n",
       "      <td>4.000000</td>\n",
       "      <td>98.000000</td>\n",
       "      <td>98.00000</td>\n",
       "      <td>100.000000</td>\n",
       "      <td>40.300000</td>\n",
       "      <td>10.000000</td>\n",
       "    </tr>\n",
       "  </tbody>\n",
       "</table>\n",
       "</div>"
      ],
      "text/plain": [
       "               Lat          Lng  Distance(mi)     Severity  Wind_Chill(F)  \\\n",
       "count  6407.000000  6407.000000   6407.000000  6407.000000    6407.000000   \n",
       "mean     37.765653  -122.405990      0.135189     2.293429      59.851594   \n",
       "std       0.032555     0.028275      0.396360     0.521225       6.549706   \n",
       "min      37.609619  -122.510440      0.000000     1.000000      31.100000   \n",
       "25%      37.737096  -122.412210      0.000000     2.000000      59.000000   \n",
       "50%      37.768238  -122.404835      0.000000     2.000000      59.762515   \n",
       "75%      37.787813  -122.392477      0.041000     3.000000      59.762515   \n",
       "max      37.825626  -122.349734      6.820000     4.000000      98.000000   \n",
       "\n",
       "       Temperature(F)  Humidity(%)  Wind_Speed(mph)  Visibility(mi)  \n",
       "count      6407.00000  6407.000000      6407.000000     6407.000000  \n",
       "mean         59.93899    68.179669        10.864850        9.440442  \n",
       "std           7.94523    16.163415         6.348389        1.647513  \n",
       "min          36.00000    10.000000         0.000000        0.120000  \n",
       "25%          54.00000    59.000000         6.000000       10.000000  \n",
       "50%          59.00000    70.000000        10.000000       10.000000  \n",
       "75%          64.90000    80.000000        15.000000       10.000000  \n",
       "max          98.00000   100.000000        40.300000       10.000000  "
      ]
     },
     "execution_count": 6,
     "metadata": {},
     "output_type": "execute_result"
    }
   ],
   "source": [
    "mdf.drop(columns='ID').describe()"
   ]
  },
  {
   "cell_type": "markdown",
   "id": "0311fd58",
   "metadata": {
    "papermill": {
     "duration": 0.023004,
     "end_time": "2021-07-27T14:02:19.314718",
     "exception": false,
     "start_time": "2021-07-27T14:02:19.291714",
     "status": "completed"
    },
    "tags": []
   },
   "source": [
    "The output shows desciptive statistics for the numerical features, `Lat`, `Lng`, `Distance(mi)`, and `Severity`. I'll use the numerical features to demonstrate how to train the model and make submissions. **However you shouldn't use the numerical features only to make the final submission if you want to make it to the top of the leaderboard.**"
   ]
  },
  {
   "cell_type": "markdown",
   "id": "10476194",
   "metadata": {
    "papermill": {
     "duration": 0.02191,
     "end_time": "2021-07-27T14:02:19.358733",
     "exception": false,
     "start_time": "2021-07-27T14:02:19.336823",
     "status": "completed"
    },
    "tags": []
   },
   "source": [
    "## Data Splitting\n",
    "\n",
    "Now it's time to split the dataset for the training step. Typically the dataset is split into 3 subsets, namely, the training, validation and test sets. In our case, the test set is already predefined. So we'll split the \"training\" set into training and validation sets with 0.8:0.2 ratio. \n",
    "\n",
    "*Note: a good way to generate reproducible results is to set the seed to the algorithms that depends on randomization. This is done with the argument `random_state` in the following command* "
   ]
  },
  {
   "cell_type": "code",
   "execution_count": 7,
   "id": "20119dc5",
   "metadata": {
    "execution": {
     "iopub.execute_input": "2021-07-27T14:02:19.410918Z",
     "iopub.status.busy": "2021-07-27T14:02:19.410106Z",
     "iopub.status.idle": "2021-07-27T14:02:19.437235Z",
     "shell.execute_reply": "2021-07-27T14:02:19.437682Z",
     "shell.execute_reply.started": "2021-07-27T14:01:45.295087Z"
    },
    "papermill": {
     "duration": 0.056856,
     "end_time": "2021-07-27T14:02:19.437878",
     "exception": false,
     "start_time": "2021-07-27T14:02:19.381022",
     "status": "completed"
    },
    "tags": []
   },
   "outputs": [
    {
     "name": "stdout",
     "output_type": "stream",
     "text": [
      "        ID        Lat         Lng   Bump  Distance(mi)  Crossing  Give_Way  \\\n",
      "2488  2488  37.737483 -122.402230  False         0.000     False     False   \n",
      "5479  5479  37.733130 -122.412227  False         0.000     False     False   \n",
      "2399  2399  37.737400 -122.402270  False         0.407     False     False   \n",
      "1330  1330  37.719284 -122.399544  False         0.000     False     False   \n",
      "5921  5921  37.761803 -122.405869  False         0.010     False     False   \n",
      "...    ...        ...         ...    ...           ...       ...       ...   \n",
      "509    509  37.740032 -122.408096  False         0.000     False     False   \n",
      "6221  6221  37.807710 -122.367640  False         0.037     False     False   \n",
      "4578  4578  37.725469 -122.394187  False         0.106      True     False   \n",
      "5437  5437  37.808110 -122.367190  False         0.037     False     False   \n",
      "1732  1732  37.723620 -122.401340  False         0.136     False     False   \n",
      "\n",
      "      Junction  No_Exit  Railway  ...  Side  Severity           timestamp  \\\n",
      "2488     False    False    False  ...     R         2 2019-10-21 11:00:00   \n",
      "5479     False    False    False  ...     R         2 2019-09-17 18:00:00   \n",
      "2399     False    False    False  ...     R         2 2019-08-14 08:00:00   \n",
      "1330     False    False    False  ...     R         2 2020-02-13 12:00:00   \n",
      "5921      True    False    False  ...     R         2 2016-05-11 18:00:00   \n",
      "...        ...      ...      ...  ...   ...       ...                 ...   \n",
      "509      False    False    False  ...     R         2 2018-09-20 07:00:00   \n",
      "6221     False    False    False  ...     R         3 2018-06-06 12:00:00   \n",
      "4578     False    False     True  ...     R         3 2019-06-22 16:00:00   \n",
      "5437      True    False    False  ...     R         3 2016-10-25 06:00:00   \n",
      "1732     False    False    False  ...     R         2 2017-06-21 08:00:00   \n",
      "\n",
      "     holiday  Weather_Condition Wind_Chill(F)  Temperature(F) Humidity(%)  \\\n",
      "2488   False                2.0     66.000000            66.0        70.0   \n",
      "5479   False               11.0     71.000000            71.0        53.0   \n",
      "2399   False                2.0     67.000000            67.0        68.0   \n",
      "1330   False                1.0     58.000000            58.0        62.0   \n",
      "5921   False                0.0     59.762515            60.1        72.0   \n",
      "...      ...                ...           ...             ...         ...   \n",
      "509    False                0.0     59.762515            59.0        75.0   \n",
      "6221   False                1.0     59.762515            62.1        70.0   \n",
      "4578   False                2.0     78.000000            78.0        39.0   \n",
      "5437   False                9.0     59.762515            64.0        80.0   \n",
      "1732   False                0.0     59.762515            64.0        75.0   \n",
      "\n",
      "      Wind_Speed(mph)  Visibility(mi)  \n",
      "2488         6.000000            10.0  \n",
      "5479        22.000000            10.0  \n",
      "2399         3.000000            10.0  \n",
      "1330         6.000000            10.0  \n",
      "5921        12.700000            10.0  \n",
      "...               ...             ...  \n",
      "509         10.813164            10.0  \n",
      "6221        16.100000            10.0  \n",
      "4578        17.000000            10.0  \n",
      "5437        15.000000             6.0  \n",
      "1732         4.600000            10.0  \n",
      "\n",
      "[1282 rows x 23 columns]\n"
     ]
    }
   ],
   "source": [
    "from sklearn.model_selection import train_test_split\n",
    "# ,stratify=mdf[['Severity']]\n",
    "\n",
    "train_df, val_df = train_test_split(mdf, test_size=0.2, random_state=42) # Try adding `,stratify=mdf` here\n",
    "\n",
    "X_train = train_df.drop(columns=['ID', 'Severity'])\n",
    "y_train = train_df['Severity']\n",
    "\n",
    "X_val = val_df.drop(columns=['ID', 'Severity'])\n",
    "y_val = val_df['Severity']\n",
    "\n",
    "print(val_df)\n"
   ]
  },
  {
   "cell_type": "markdown",
   "id": "65a760a1",
   "metadata": {
    "papermill": {
     "duration": 0.022842,
     "end_time": "2021-07-27T14:02:19.483456",
     "exception": false,
     "start_time": "2021-07-27T14:02:19.460614",
     "status": "completed"
    },
    "tags": []
   },
   "source": [
    "As pointed out eariler, I'll use the numerical features to train the classifier. **However, you shouldn't use the numerical features only to make the final submission if you want to make it to the top of the leaderboard.** "
   ]
  },
  {
   "cell_type": "code",
   "execution_count": 8,
   "id": "c438419a",
   "metadata": {
    "execution": {
     "iopub.execute_input": "2021-07-27T14:02:19.533731Z",
     "iopub.status.busy": "2021-07-27T14:02:19.533060Z",
     "iopub.status.idle": "2021-07-27T14:02:19.548722Z",
     "shell.execute_reply": "2021-07-27T14:02:19.549515Z",
     "shell.execute_reply.started": "2021-07-27T14:01:45.385833Z"
    },
    "papermill": {
     "duration": 0.043409,
     "end_time": "2021-07-27T14:02:19.549750",
     "exception": false,
     "start_time": "2021-07-27T14:02:19.506341",
     "status": "completed"
    },
    "tags": []
   },
   "outputs": [
    {
     "name": "stdout",
     "output_type": "stream",
     "text": [
      "            Lat         Lng Weather_Condition  Temperature(F)  Humidity(%)  \\\n",
      "2488  37.737483 -122.402230               2.0            66.0         70.0   \n",
      "5479  37.733130 -122.412227              11.0            71.0         53.0   \n",
      "2399  37.737400 -122.402270               2.0            67.0         68.0   \n",
      "1330  37.719284 -122.399544               1.0            58.0         62.0   \n",
      "5921  37.761803 -122.405869               0.0            60.1         72.0   \n",
      "...         ...         ...               ...             ...          ...   \n",
      "509   37.740032 -122.408096               0.0            59.0         75.0   \n",
      "6221  37.807710 -122.367640               1.0            62.1         70.0   \n",
      "4578  37.725469 -122.394187               2.0            78.0         39.0   \n",
      "5437  37.808110 -122.367190               9.0            64.0         80.0   \n",
      "1732  37.723620 -122.401340               0.0            64.0         75.0   \n",
      "\n",
      "      Wind_Chill(F)  Wind_Speed(mph)  \n",
      "2488      66.000000         6.000000  \n",
      "5479      71.000000        22.000000  \n",
      "2399      67.000000         3.000000  \n",
      "1330      58.000000         6.000000  \n",
      "5921      59.762515        12.700000  \n",
      "...             ...              ...  \n",
      "509       59.762515        10.813164  \n",
      "6221      59.762515        16.100000  \n",
      "4578      78.000000        17.000000  \n",
      "5437      59.762515        15.000000  \n",
      "1732      59.762515         4.600000  \n",
      "\n",
      "[1282 rows x 7 columns]\n"
     ]
    }
   ],
   "source": [
    "# This cell is used to select the numerical features. IT SHOULD BE REMOVED AS YOU DO YOUR WORK.\n",
    "X_train = X_train[['Lat', 'Lng','Weather_Condition','Temperature(F)','Humidity(%)','Wind_Chill(F)','Wind_Speed(mph)']]\n",
    "X_val = X_val[['Lat', 'Lng','Weather_Condition','Temperature(F)','Humidity(%)','Wind_Chill(F)','Wind_Speed(mph)']]\n",
    "print(X_val)"
   ]
  },
  {
   "cell_type": "markdown",
   "id": "dd5b5aa8",
   "metadata": {
    "papermill": {
     "duration": 0.023582,
     "end_time": "2021-07-27T14:02:19.598224",
     "exception": false,
     "start_time": "2021-07-27T14:02:19.574642",
     "status": "completed"
    },
    "tags": []
   },
   "source": []
  },
  {
   "cell_type": "markdown",
   "id": "de754229",
   "metadata": {
    "papermill": {
     "duration": 0.023812,
     "end_time": "2021-07-27T14:02:19.646032",
     "exception": false,
     "start_time": "2021-07-27T14:02:19.622220",
     "status": "completed"
    },
    "tags": []
   },
   "source": [
    "## Model Training\n",
    "\n",
    "Let's train a model with the data! We'll train a Random Forest Classifier to demonstrate the process of making submissions. "
   ]
  },
  {
   "cell_type": "code",
   "execution_count": 9,
   "id": "74809ae9",
   "metadata": {
    "execution": {
     "iopub.execute_input": "2021-07-27T14:02:19.696771Z",
     "iopub.status.busy": "2021-07-27T14:02:19.696098Z",
     "iopub.status.idle": "2021-07-27T14:02:20.071987Z",
     "shell.execute_reply": "2021-07-27T14:02:20.071412Z",
     "shell.execute_reply.started": "2021-07-27T14:01:46.571720Z"
    },
    "papermill": {
     "duration": 0.402378,
     "end_time": "2021-07-27T14:02:20.072143",
     "exception": false,
     "start_time": "2021-07-27T14:02:19.669765",
     "status": "completed"
    },
    "tags": []
   },
   "outputs": [],
   "source": [
    "from sklearn.ensemble import RandomForestClassifier\n",
    "\n",
    "# Create an instance of the classifier\n",
    "classifier = RandomForestClassifier( max_depth=2,random_state=0)\n",
    "\n",
    "# Train the classifier\n",
    "classifier = classifier.fit(X_train, y_train)"
   ]
  },
  {
   "cell_type": "markdown",
   "id": "1c056e2b",
   "metadata": {
    "papermill": {
     "duration": 0.023402,
     "end_time": "2021-07-27T14:02:20.118851",
     "exception": false,
     "start_time": "2021-07-27T14:02:20.095449",
     "status": "completed"
    },
    "tags": []
   },
   "source": [
    "Now let's test our classifier on the validation dataset and see the accuracy."
   ]
  },
  {
   "cell_type": "code",
   "execution_count": 10,
   "id": "9e951af0",
   "metadata": {
    "execution": {
     "iopub.execute_input": "2021-07-27T14:02:20.176099Z",
     "iopub.status.busy": "2021-07-27T14:02:20.175359Z",
     "iopub.status.idle": "2021-07-27T14:02:20.196872Z",
     "shell.execute_reply": "2021-07-27T14:02:20.197327Z",
     "shell.execute_reply.started": "2021-07-27T14:01:46.896760Z"
    },
    "papermill": {
     "duration": 0.054401,
     "end_time": "2021-07-27T14:02:20.197498",
     "exception": false,
     "start_time": "2021-07-27T14:02:20.143097",
     "status": "completed"
    },
    "tags": []
   },
   "outputs": [
    {
     "name": "stdout",
     "output_type": "stream",
     "text": [
      "The accuracy of the classifier on the validation set is  0.7464898595943837\n"
     ]
    }
   ],
   "source": [
    "# print(X_val)\n",
    "# print(y_val)\n",
    "print(\"The accuracy of the classifier on the validation set is \", (classifier.score(X_val, y_val)))"
   ]
  },
  {
   "cell_type": "markdown",
   "id": "c168b040",
   "metadata": {
    "papermill": {
     "duration": 0.02382,
     "end_time": "2021-07-27T14:02:20.244914",
     "exception": false,
     "start_time": "2021-07-27T14:02:20.221094",
     "status": "completed"
    },
    "tags": []
   },
   "source": [
    "Well. That's a good start, right? A classifier that predicts all examples' `Severity` as 2 will get around 0.63. You should get better score as you add more features and do better data preprocessing."
   ]
  },
  {
   "cell_type": "markdown",
   "id": "294b6355",
   "metadata": {
    "papermill": {
     "duration": 0.024013,
     "end_time": "2021-07-27T14:02:20.293248",
     "exception": false,
     "start_time": "2021-07-27T14:02:20.269235",
     "status": "completed"
    },
    "tags": []
   },
   "source": [
    "## Submission File Generation\n",
    "\n",
    "We have built a model and we'd like to submit our predictions on the test set! In order to do that, we'll load the test set, predict the class and save the submission file. \n",
    "\n",
    "First, we'll load the data."
   ]
  },
  {
   "cell_type": "code",
   "execution_count": 11,
   "id": "c777e061",
   "metadata": {
    "execution": {
     "iopub.execute_input": "2021-07-27T14:02:20.348158Z",
     "iopub.status.busy": "2021-07-27T14:02:20.347397Z",
     "iopub.status.idle": "2021-07-27T14:02:20.371680Z",
     "shell.execute_reply": "2021-07-27T14:02:20.370993Z",
     "shell.execute_reply.started": "2021-07-27T14:01:46.928697Z"
    },
    "papermill": {
     "duration": 0.054446,
     "end_time": "2021-07-27T14:02:20.371865",
     "exception": false,
     "start_time": "2021-07-27T14:02:20.317419",
     "status": "completed"
    },
    "tags": []
   },
   "outputs": [],
   "source": [
    "test_df = pd.read_csv(os.path.join(dataset_path, 'test.csv'))\n",
    "test_df.head()\n",
    "\n",
    "test_df['holiday']=test_df['timestamp'].str.contains(\"|\".join(hdf['date']))\n",
    "\n",
    "test_df['timestamp'] = test_df['timestamp'].map(str).apply(lambda x: x[0:13])"
   ]
  },
  {
   "cell_type": "code",
   "execution_count": 12,
   "id": "fa23ded3",
   "metadata": {
    "execution": {
     "iopub.execute_input": "2021-07-27T14:02:20.437465Z",
     "iopub.status.busy": "2021-07-27T14:02:20.434312Z",
     "iopub.status.idle": "2021-07-27T14:02:20.452521Z",
     "shell.execute_reply": "2021-07-27T14:02:20.453261Z",
     "shell.execute_reply.started": "2021-07-27T14:01:46.953838Z"
    },
    "papermill": {
     "duration": 0.057902,
     "end_time": "2021-07-27T14:02:20.453485",
     "exception": false,
     "start_time": "2021-07-27T14:02:20.395583",
     "status": "completed"
    },
    "tags": []
   },
   "outputs": [
    {
     "name": "stdout",
     "output_type": "stream",
     "text": [
      "1601\n",
      "1601\n"
     ]
    },
    {
     "data": {
      "text/plain": [
       "ID                   0\n",
       "Lat                  0\n",
       "Lng                  0\n",
       "Bump                 0\n",
       "Distance(mi)         0\n",
       "Crossing             0\n",
       "Give_Way             0\n",
       "Junction             0\n",
       "No_Exit              0\n",
       "Railway              0\n",
       "Roundabout           0\n",
       "Stop                 0\n",
       "Amenity              0\n",
       "Side                 0\n",
       "timestamp            0\n",
       "holiday              0\n",
       "Weather_Condition    0\n",
       "Wind_Chill(F)        0\n",
       "Temperature(F)       0\n",
       "Humidity(%)          0\n",
       "Wind_Speed(mph)      0\n",
       "Visibility(mi)       0\n",
       "dtype: int64"
      ]
     },
     "execution_count": 12,
     "metadata": {},
     "output_type": "execute_result"
    }
   ],
   "source": [
    "\n",
    "\n",
    "test_df['timestamp']=pd.to_datetime(df['timestamp'])\n",
    "test_mdf = pd.merge(test_df, wdf, on='timestamp',how=\"left\")\n",
    "print(len(test_mdf['ID']))\n",
    "print(len(test_mdf['ID'].unique()))\n",
    "test_mdf.isna().sum()\n",
    "# wdf.dropna(subset=['Visibility(mi)'], how='all', inplace=True)\n",
    "# wdf.dropna(subset=['Weather_Condition'], how='all', inplace=True)"
   ]
  },
  {
   "cell_type": "markdown",
   "id": "4e7142d8",
   "metadata": {
    "papermill": {
     "duration": 0.02415,
     "end_time": "2021-07-27T14:02:20.502348",
     "exception": false,
     "start_time": "2021-07-27T14:02:20.478198",
     "status": "completed"
    },
    "tags": []
   },
   "source": [
    "Note that the test set has the same features and doesn't have the `Severity` column.\n",
    "At this stage one must **NOT** forget to apply the same processing done on the training set on the features of the test set.\n",
    "\n",
    "Now we'll add `Severity` column to the test `DataFrame` and add the values of the predicted class to it.\n",
    "\n",
    "**I'll select the numerical features here as I did in the training set. DO NOT forget to change this step as you change the preprocessing of the training data.**"
   ]
  },
  {
   "cell_type": "code",
   "execution_count": 13,
   "id": "a7c201f8",
   "metadata": {
    "execution": {
     "iopub.execute_input": "2021-07-27T14:02:20.564254Z",
     "iopub.status.busy": "2021-07-27T14:02:20.557672Z",
     "iopub.status.idle": "2021-07-27T14:02:20.614418Z",
     "shell.execute_reply": "2021-07-27T14:02:20.613428Z",
     "shell.execute_reply.started": "2021-07-27T14:01:46.988276Z"
    },
    "papermill": {
     "duration": 0.087333,
     "end_time": "2021-07-27T14:02:20.614572",
     "exception": false,
     "start_time": "2021-07-27T14:02:20.527239",
     "status": "completed"
    },
    "tags": []
   },
   "outputs": [
    {
     "data": {
      "text/html": [
       "<div>\n",
       "<style scoped>\n",
       "    .dataframe tbody tr th:only-of-type {\n",
       "        vertical-align: middle;\n",
       "    }\n",
       "\n",
       "    .dataframe tbody tr th {\n",
       "        vertical-align: top;\n",
       "    }\n",
       "\n",
       "    .dataframe thead th {\n",
       "        text-align: right;\n",
       "    }\n",
       "</style>\n",
       "<table border=\"1\" class=\"dataframe\">\n",
       "  <thead>\n",
       "    <tr style=\"text-align: right;\">\n",
       "      <th></th>\n",
       "      <th>ID</th>\n",
       "      <th>Lat</th>\n",
       "      <th>Lng</th>\n",
       "      <th>Bump</th>\n",
       "      <th>Distance(mi)</th>\n",
       "      <th>Crossing</th>\n",
       "      <th>Give_Way</th>\n",
       "      <th>Junction</th>\n",
       "      <th>No_Exit</th>\n",
       "      <th>Railway</th>\n",
       "      <th>...</th>\n",
       "      <th>Side</th>\n",
       "      <th>timestamp</th>\n",
       "      <th>holiday</th>\n",
       "      <th>Weather_Condition</th>\n",
       "      <th>Wind_Chill(F)</th>\n",
       "      <th>Temperature(F)</th>\n",
       "      <th>Humidity(%)</th>\n",
       "      <th>Wind_Speed(mph)</th>\n",
       "      <th>Visibility(mi)</th>\n",
       "      <th>Severity</th>\n",
       "    </tr>\n",
       "  </thead>\n",
       "  <tbody>\n",
       "    <tr>\n",
       "      <th>0</th>\n",
       "      <td>6407</td>\n",
       "      <td>37.786060</td>\n",
       "      <td>-122.390900</td>\n",
       "      <td>False</td>\n",
       "      <td>0.039</td>\n",
       "      <td>False</td>\n",
       "      <td>False</td>\n",
       "      <td>True</td>\n",
       "      <td>False</td>\n",
       "      <td>False</td>\n",
       "      <td>...</td>\n",
       "      <td>R</td>\n",
       "      <td>2016-03-25 15:00:00</td>\n",
       "      <td>False</td>\n",
       "      <td>5.0</td>\n",
       "      <td>59.762515</td>\n",
       "      <td>64.0</td>\n",
       "      <td>58.0</td>\n",
       "      <td>23.0</td>\n",
       "      <td>10.0</td>\n",
       "      <td>2</td>\n",
       "    </tr>\n",
       "    <tr>\n",
       "      <th>1</th>\n",
       "      <td>6408</td>\n",
       "      <td>37.769609</td>\n",
       "      <td>-122.415057</td>\n",
       "      <td>False</td>\n",
       "      <td>0.202</td>\n",
       "      <td>False</td>\n",
       "      <td>False</td>\n",
       "      <td>False</td>\n",
       "      <td>False</td>\n",
       "      <td>False</td>\n",
       "      <td>...</td>\n",
       "      <td>R</td>\n",
       "      <td>2020-05-05 19:00:00</td>\n",
       "      <td>False</td>\n",
       "      <td>12.0</td>\n",
       "      <td>57.000000</td>\n",
       "      <td>57.0</td>\n",
       "      <td>83.0</td>\n",
       "      <td>22.0</td>\n",
       "      <td>10.0</td>\n",
       "      <td>2</td>\n",
       "    </tr>\n",
       "    <tr>\n",
       "      <th>2</th>\n",
       "      <td>6409</td>\n",
       "      <td>37.807495</td>\n",
       "      <td>-122.476021</td>\n",
       "      <td>False</td>\n",
       "      <td>0.000</td>\n",
       "      <td>False</td>\n",
       "      <td>False</td>\n",
       "      <td>False</td>\n",
       "      <td>False</td>\n",
       "      <td>False</td>\n",
       "      <td>...</td>\n",
       "      <td>R</td>\n",
       "      <td>2016-09-16 19:00:00</td>\n",
       "      <td>False</td>\n",
       "      <td>4.0</td>\n",
       "      <td>59.762515</td>\n",
       "      <td>62.1</td>\n",
       "      <td>80.0</td>\n",
       "      <td>9.2</td>\n",
       "      <td>10.0</td>\n",
       "      <td>2</td>\n",
       "    </tr>\n",
       "    <tr>\n",
       "      <th>3</th>\n",
       "      <td>6410</td>\n",
       "      <td>37.761818</td>\n",
       "      <td>-122.405869</td>\n",
       "      <td>False</td>\n",
       "      <td>0.000</td>\n",
       "      <td>False</td>\n",
       "      <td>False</td>\n",
       "      <td>True</td>\n",
       "      <td>False</td>\n",
       "      <td>False</td>\n",
       "      <td>...</td>\n",
       "      <td>R</td>\n",
       "      <td>2020-03-29 19:00:00</td>\n",
       "      <td>False</td>\n",
       "      <td>2.0</td>\n",
       "      <td>58.000000</td>\n",
       "      <td>58.0</td>\n",
       "      <td>70.0</td>\n",
       "      <td>10.0</td>\n",
       "      <td>10.0</td>\n",
       "      <td>2</td>\n",
       "    </tr>\n",
       "    <tr>\n",
       "      <th>4</th>\n",
       "      <td>6411</td>\n",
       "      <td>37.732350</td>\n",
       "      <td>-122.414100</td>\n",
       "      <td>False</td>\n",
       "      <td>0.670</td>\n",
       "      <td>False</td>\n",
       "      <td>False</td>\n",
       "      <td>False</td>\n",
       "      <td>False</td>\n",
       "      <td>False</td>\n",
       "      <td>...</td>\n",
       "      <td>R</td>\n",
       "      <td>2019-10-09 08:00:00</td>\n",
       "      <td>False</td>\n",
       "      <td>2.0</td>\n",
       "      <td>58.000000</td>\n",
       "      <td>58.0</td>\n",
       "      <td>65.0</td>\n",
       "      <td>3.0</td>\n",
       "      <td>10.0</td>\n",
       "      <td>2</td>\n",
       "    </tr>\n",
       "  </tbody>\n",
       "</table>\n",
       "<p>5 rows × 23 columns</p>\n",
       "</div>"
      ],
      "text/plain": [
       "     ID        Lat         Lng   Bump  Distance(mi)  Crossing  Give_Way  \\\n",
       "0  6407  37.786060 -122.390900  False         0.039     False     False   \n",
       "1  6408  37.769609 -122.415057  False         0.202     False     False   \n",
       "2  6409  37.807495 -122.476021  False         0.000     False     False   \n",
       "3  6410  37.761818 -122.405869  False         0.000     False     False   \n",
       "4  6411  37.732350 -122.414100  False         0.670     False     False   \n",
       "\n",
       "   Junction  No_Exit  Railway  ...  Side           timestamp  holiday  \\\n",
       "0      True    False    False  ...     R 2016-03-25 15:00:00    False   \n",
       "1     False    False    False  ...     R 2020-05-05 19:00:00    False   \n",
       "2     False    False    False  ...     R 2016-09-16 19:00:00    False   \n",
       "3      True    False    False  ...     R 2020-03-29 19:00:00    False   \n",
       "4     False    False    False  ...     R 2019-10-09 08:00:00    False   \n",
       "\n",
       "  Weather_Condition Wind_Chill(F)  Temperature(F) Humidity(%)  \\\n",
       "0               5.0     59.762515            64.0        58.0   \n",
       "1              12.0     57.000000            57.0        83.0   \n",
       "2               4.0     59.762515            62.1        80.0   \n",
       "3               2.0     58.000000            58.0        70.0   \n",
       "4               2.0     58.000000            58.0        65.0   \n",
       "\n",
       "   Wind_Speed(mph)  Visibility(mi)  Severity  \n",
       "0             23.0            10.0         2  \n",
       "1             22.0            10.0         2  \n",
       "2              9.2            10.0         2  \n",
       "3             10.0            10.0         2  \n",
       "4              3.0            10.0         2  \n",
       "\n",
       "[5 rows x 23 columns]"
      ]
     },
     "execution_count": 13,
     "metadata": {},
     "output_type": "execute_result"
    }
   ],
   "source": [
    "X_test = test_mdf.drop(columns=['ID'])\n",
    "\n",
    "\n",
    "\n",
    "# You should update/remove the next line once you change the features used for training\n",
    "X_test = X_test[['Lat', 'Lng','Weather_Condition','Temperature(F)','Humidity(%)','Wind_Chill(F)','Wind_Speed(mph)']]\n",
    "\n",
    "y_test_predicted = classifier.predict(X_test)\n",
    "\n",
    "test_mdf['Severity'] = y_test_predicted\n",
    "\n",
    "test_mdf.head()"
   ]
  },
  {
   "cell_type": "markdown",
   "id": "fbffa0d9",
   "metadata": {
    "papermill": {
     "duration": 0.024948,
     "end_time": "2021-07-27T14:02:20.664364",
     "exception": false,
     "start_time": "2021-07-27T14:02:20.639416",
     "status": "completed"
    },
    "tags": []
   },
   "source": [
    "Now we're ready to generate the submission file. The submission file needs the columns `ID` and `Severity` only."
   ]
  },
  {
   "cell_type": "code",
   "execution_count": 14,
   "id": "392cc016",
   "metadata": {
    "execution": {
     "iopub.execute_input": "2021-07-27T14:02:20.722675Z",
     "iopub.status.busy": "2021-07-27T14:02:20.721666Z",
     "iopub.status.idle": "2021-07-27T14:02:20.730369Z",
     "shell.execute_reply": "2021-07-27T14:02:20.730920Z",
     "shell.execute_reply.started": "2021-07-27T14:01:47.049410Z"
    },
    "papermill": {
     "duration": 0.040969,
     "end_time": "2021-07-27T14:02:20.731092",
     "exception": false,
     "start_time": "2021-07-27T14:02:20.690123",
     "status": "completed"
    },
    "tags": []
   },
   "outputs": [],
   "source": [
    "# test_mdf[['ID', 'Severity']].duplicated()\n",
    "\n",
    "test_mdf[['ID', 'Severity']].to_csv('/kaggle/working/submission.csv', index=False)"
   ]
  },
  {
   "cell_type": "code",
   "execution_count": null,
   "id": "18f895b5",
   "metadata": {
    "papermill": {
     "duration": 0.02462,
     "end_time": "2021-07-27T14:02:20.780778",
     "exception": false,
     "start_time": "2021-07-27T14:02:20.756158",
     "status": "completed"
    },
    "tags": []
   },
   "outputs": [],
   "source": []
  },
  {
   "cell_type": "markdown",
   "id": "fba3ca28",
   "metadata": {
    "papermill": {
     "duration": 0.02552,
     "end_time": "2021-07-27T14:02:20.831412",
     "exception": false,
     "start_time": "2021-07-27T14:02:20.805892",
     "status": "completed"
    },
    "tags": []
   },
   "source": [
    "The remaining steps is to submit the generated file and are as follows. \n",
    "\n",
    "1. Press `Save Version` on the upper right corner of this notebook.\n",
    "2. Write a `Version Name` of your choice and choose `Save & Run All (Commit)` then click `Save`.\n",
    "3. Wait for the saved notebook to finish running the go to the saved notebook.\n",
    "4. Scroll down until you see the output files then select the `submission.csv` file and click `Submit`.\n",
    "\n",
    "Now your submission will be evaluated and your score will be updated on the leaderboard! CONGRATULATIONS!!"
   ]
  },
  {
   "cell_type": "markdown",
   "id": "5a276b3f",
   "metadata": {
    "papermill": {
     "duration": 0.024562,
     "end_time": "2021-07-27T14:02:20.881408",
     "exception": false,
     "start_time": "2021-07-27T14:02:20.856846",
     "status": "completed"
    },
    "tags": []
   },
   "source": [
    "## Conclusion\n",
    "\n",
    "In this notebook, we have demonstrated the essential steps that one should do in order to get \"slightly\" familiar with the data and the submission process. We chose not to go into details in each step to keep the welcoming notebook simple and make a room for improvement.\n",
    "\n",
    "You're encourged to `Fork` the notebook, edit it, add your insights and use it to create your submission."
   ]
  }
 ],
 "metadata": {
  "kernelspec": {
   "display_name": "Python 3",
   "language": "python",
   "name": "python3"
  },
  "language_info": {
   "codemirror_mode": {
    "name": "ipython",
    "version": 3
   },
   "file_extension": ".py",
   "mimetype": "text/x-python",
   "name": "python",
   "nbconvert_exporter": "python",
   "pygments_lexer": "ipython3",
   "version": "3.7.10"
  },
  "papermill": {
   "default_parameters": {},
   "duration": 13.880647,
   "end_time": "2021-07-27T14:02:22.528115",
   "environment_variables": {},
   "exception": null,
   "input_path": "__notebook__.ipynb",
   "output_path": "__notebook__.ipynb",
   "parameters": {},
   "start_time": "2021-07-27T14:02:08.647468",
   "version": "2.3.3"
  }
 },
 "nbformat": 4,
 "nbformat_minor": 5
}
